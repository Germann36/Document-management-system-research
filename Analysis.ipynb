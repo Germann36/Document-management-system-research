{
 "cells": [
  {
   "cell_type": "markdown",
   "id": "1f82b1aa-b43f-4f9f-8bcb-2f2d75e6ce97",
   "metadata": {
    "tags": []
   },
   "source": [
    "## Анализ опроса о необходимости внедрения системы автоматизации документооборота"
   ]
  },
  {
   "cell_type": "markdown",
   "id": "5b549ba0-c7b6-4bc5-8309-d9689cbef65c",
   "metadata": {
    "jp-MarkdownHeadingCollapsed": true,
    "tags": []
   },
   "source": [
    "### Дизайн исследования"
   ]
  },
  {
   "cell_type": "markdown",
   "id": "c0bc607b-53a3-49f3-ad14-5ffd24c6a4d1",
   "metadata": {
    "tags": []
   },
   "source": [
    "#### Гипотеза"
   ]
  },
  {
   "cell_type": "markdown",
   "id": "2018b33c-a4be-44d3-9f42-75d4d675356e",
   "metadata": {
    "tags": []
   },
   "source": [
    "&emsp; Из-за ручного заполнения большого количества документов сотрудники часто совершают ошибки, что приводит к необходимости переделывать файлы. \\\n",
    "&emsp; Это вызывает задержки в заключении договоров с партнёрами и увеличивает риск потери успешных проектов. \\\n",
    "&emsp; Кроме того, постоянная необходимость исправлять документы приводит к усталости сотрудников, что снижает их продуктивность и отвлекает от выполнения более важных задач."
   ]
  },
  {
   "cell_type": "markdown",
   "id": "028d9462-2300-4247-852a-c4c4893b9496",
   "metadata": {
    "tags": []
   },
   "source": [
    "#### Цели"
   ]
  },
  {
   "cell_type": "markdown",
   "id": "db8498a3-414a-4a0c-864a-97a4522bc303",
   "metadata": {},
   "source": [
    "* Определить, действительно ли сотрудники и партнёры испытывают трудности при составлении документов.\n",
    "* Оценить, сможет ли система автоматизации документооборота решить эти проблемы."
   ]
  },
  {
   "cell_type": "markdown",
   "id": "75dae73b-8ecd-408a-83d5-5e55097f9e44",
   "metadata": {
    "tags": []
   },
   "source": [
    "#### Задачи"
   ]
  },
  {
   "cell_type": "markdown",
   "id": "ed168596-b277-4dbe-a6c8-fddab5cbfc11",
   "metadata": {},
   "source": [
    "* Провести опрос среди сотрудников компании для получения их мнений и оценок текущего состояния документооборота.\n",
    "* Выявить основные проблемы и точки роста по корпоративному документообороту из полученных данных.\n",
    "* Определить, насколько автоматизация может улучшить рабочие процессы и снизить затраты.\n",
    "* Разработать рекомендации по внедрению системы автоматизации на основе анализа данных."
   ]
  },
  {
   "cell_type": "markdown",
   "id": "54845e23-7658-48fe-ad6d-99f12a501164",
   "metadata": {
    "tags": []
   },
   "source": [
    "#### Методология"
   ]
  },
  {
   "cell_type": "markdown",
   "id": "8dd4dbce-b88f-4b4c-9f81-b52e4a80bf9b",
   "metadata": {
    "tags": []
   },
   "source": [
    "&emsp; Для достижения поставленной цели будет использован количественный метод исследования. Опрос будет проводиться среди различных подразделений компании, \\\n",
    "&emsp; чтобы получить репрезентативные данные. Вопросы будут направлены на выявление следующих аспектов:\n",
    "\n",
    "* Частота использования документов.\n",
    "* Время, затрачиваемое на обработку документов.\n",
    "* Частота возникновения ошибок в документах.\n",
    "* Уровень удовлетворенности текущим процессом документооборота.\n",
    "* Влияние усталости на производительность."
   ]
  },
  {
   "cell_type": "markdown",
   "id": "33196a6f-d73d-4cb1-ac12-b9467ebce813",
   "metadata": {
    "tags": []
   },
   "source": [
    "#### Инструменты"
   ]
  },
  {
   "cell_type": "markdown",
   "id": "b883c0b3-272f-4693-bd1d-b62f7cdba90a",
   "metadata": {},
   "source": [
    "* Анкета: Разработка анкеты для проведения опроса, включающей закрытые и открытые вопросы.\n",
    "* Платформа для анкетирования: Использование Яндекс.Форм для проведения опроса, обеспечивающего удобный доступ и высокую степень участия сотрудников.\n",
    "* Анализ данных: Применение Python с библиотеками Pandas и Matplotlib для обработки полученной информации.\n",
    "* Отчетность: Подготовка отчетов в формате Jupyter Notebook и PowerPoint для представления результатов руководству и заинтересованным сторонам."
   ]
  },
  {
   "cell_type": "markdown",
   "id": "3deced70-fdb6-4dad-8d7d-934ef3e6d357",
   "metadata": {
    "tags": []
   },
   "source": [
    "#### Примечание"
   ]
  },
  {
   "cell_type": "markdown",
   "id": "7a84e9d9-0403-46dd-8578-575d2bbf459f",
   "metadata": {
    "tags": []
   },
   "source": [
    "&emsp; С целью соблюдения NDA предоставляется фрагмент для публичной демонстрации, который показывает работу по обработке и анализу данных."
   ]
  },
  {
   "cell_type": "markdown",
   "id": "66f01751-354f-4460-b902-eb9a71ff5d4a",
   "metadata": {
    "jp-MarkdownHeadingCollapsed": true,
    "tags": []
   },
   "source": [
    "### Импорт библиотек"
   ]
  },
  {
   "cell_type": "code",
   "execution_count": 18,
   "id": "4521fecf-89fb-4858-8273-9ce8f7645230",
   "metadata": {
    "tags": []
   },
   "outputs": [],
   "source": [
    "import pandas as pd\n",
    "import matplotlib.pyplot as plt\n",
    "import seaborn as sns\n",
    "import numpy as np"
   ]
  },
  {
   "cell_type": "markdown",
   "id": "640378d0-6467-452a-842b-d2375b5447e0",
   "metadata": {
    "jp-MarkdownHeadingCollapsed": true,
    "tags": []
   },
   "source": [
    "### Характеристики датасета"
   ]
  },
  {
   "cell_type": "markdown",
   "id": "16ad4eec-9bcc-45c7-b535-780b534af724",
   "metadata": {},
   "source": [
    "Данные получены из сервиса Яндекс.Формы. Каждая запись – это уникальная заполненная анкета."
   ]
  },
  {
   "cell_type": "code",
   "execution_count": 19,
   "id": "e19186d6-1a56-4812-b754-eae39d5de72f",
   "metadata": {
    "tags": []
   },
   "outputs": [],
   "source": [
    "df = pd.read_csv('Опрос.csv', sep=';', encoding='utf-8')"
   ]
  },
  {
   "cell_type": "markdown",
   "id": "ec606c8d-1683-44b0-aa7e-449f3442414f",
   "metadata": {},
   "source": [
    "\\\n",
    "В датасете осталась тестовая запись, которую мы не будем удалять. \\\n",
    "Сохраним ее для большей вариации анализа данных. \\\n",
    "Начнем с того, что заменим NaN на str для группировки в сводной таблице."
   ]
  },
  {
   "cell_type": "code",
   "execution_count": 20,
   "id": "def660b3-fcb4-48e2-9e24-26813fdc79ed",
   "metadata": {
    "tags": []
   },
   "outputs": [],
   "source": [
    "df['Музей'] = df['Музей'].fillna('Не указано')"
   ]
  },
  {
   "cell_type": "markdown",
   "id": "05c0e458-1e11-4421-8103-111752dba2f2",
   "metadata": {},
   "source": [
    "\\\n",
    "Теперь посмотрим описание датасета."
   ]
  },
  {
   "cell_type": "code",
   "execution_count": 26,
   "id": "1918893c-6ce8-42f7-af14-04afe71b868f",
   "metadata": {
    "tags": []
   },
   "outputs": [
    {
     "name": "stdout",
     "output_type": "stream",
     "text": [
      "<class 'pandas.core.frame.DataFrame'>\n",
      "RangeIndex: 35 entries, 0 to 34\n",
      "Data columns (total 14 columns):\n",
      " #   Column                                                                                                                                                                  Non-Null Count  Dtype \n",
      "---  ------                                                                                                                                                                  --------------  ----- \n",
      " 0   ID                                                                                                                                                                      35 non-null     int64 \n",
      " 1   Музей                                                                                                                                                                   35 non-null     object\n",
      " 2   Ваша должность                                                                                                                                                          35 non-null     object\n",
      " 3   Работаете ли Вы с составлением документов?                                                                                                                              35 non-null     object\n",
      " 4   Сколько документов Вы составляете за неделю?                                                                                                                            34 non-null     object\n",
      " 5   С какими проблемами Вы сталкиваетесь при составлении документов / Необходимость вносить повторяющуюся информацию в разные документы                                     21 non-null     object\n",
      " 6   С какими проблемами Вы сталкиваетесь при составлении документов / Отсутствие базы шаблонов и долгий поиск нужной формы документа                                        16 non-null     object\n",
      " 7   С какими проблемами Вы сталкиваетесь при составлении документов / Ошибки на этапе согласования и внесение правок задерживают процесс подготовки выставки / мероприятия  16 non-null     object\n",
      " 8   С какими проблемами Вы сталкиваетесь при составлении документов / Долгий процесс согласования документов                                                                18 non-null     object\n",
      " 9   С какими проблемами Вы сталкиваетесь при составлении документов / Рутинная работа занимает много времени и не позволяет заниматься основной деятельностью               14 non-null     object\n",
      " 10  С какими проблемами Вы сталкиваетесь при составлении документов / Появляется чувство усталости и истощения при заполнении типовых документов                            10 non-null     object\n",
      " 11  С какими проблемами Вы сталкиваетесь при составлении документов / Проблем не возникает                                                                                  5 non-null      object\n",
      " 12  С какими проблемами Вы сталкиваетесь при составлении документов / Другое                                                                                                6 non-null      object\n",
      " 13  Укажите другие проблемы                                                                                                                                                 5 non-null      object\n",
      "dtypes: int64(1), object(13)\n",
      "memory usage: 4.0+ KB\n"
     ]
    }
   ],
   "source": [
    "df.info()"
   ]
  },
  {
   "cell_type": "code",
   "execution_count": 27,
   "id": "4eb136e0-9d51-4041-9cdf-a148db1d784b",
   "metadata": {
    "tags": []
   },
   "outputs": [
    {
     "data": {
      "text/html": [
       "<div>\n",
       "<style scoped>\n",
       "    .dataframe tbody tr th:only-of-type {\n",
       "        vertical-align: middle;\n",
       "    }\n",
       "\n",
       "    .dataframe tbody tr th {\n",
       "        vertical-align: top;\n",
       "    }\n",
       "\n",
       "    .dataframe thead th {\n",
       "        text-align: right;\n",
       "    }\n",
       "</style>\n",
       "<table border=\"1\" class=\"dataframe\">\n",
       "  <thead>\n",
       "    <tr style=\"text-align: right;\">\n",
       "      <th></th>\n",
       "      <th>ID</th>\n",
       "      <th>Музей</th>\n",
       "      <th>Ваша должность</th>\n",
       "      <th>Работаете ли Вы с составлением документов?</th>\n",
       "      <th>Сколько документов Вы составляете за неделю?</th>\n",
       "      <th>С какими проблемами Вы сталкиваетесь при составлении документов / Необходимость вносить повторяющуюся информацию в разные документы</th>\n",
       "      <th>С какими проблемами Вы сталкиваетесь при составлении документов / Отсутствие базы шаблонов и долгий поиск нужной формы документа</th>\n",
       "      <th>С какими проблемами Вы сталкиваетесь при составлении документов / Ошибки на этапе согласования и внесение правок задерживают процесс подготовки выставки / мероприятия</th>\n",
       "      <th>С какими проблемами Вы сталкиваетесь при составлении документов / Долгий процесс согласования документов</th>\n",
       "      <th>С какими проблемами Вы сталкиваетесь при составлении документов / Рутинная работа занимает много времени и не позволяет заниматься основной деятельностью</th>\n",
       "      <th>С какими проблемами Вы сталкиваетесь при составлении документов / Появляется чувство усталости и истощения при заполнении типовых документов</th>\n",
       "      <th>С какими проблемами Вы сталкиваетесь при составлении документов / Проблем не возникает</th>\n",
       "      <th>С какими проблемами Вы сталкиваетесь при составлении документов / Другое</th>\n",
       "      <th>Укажите другие проблемы</th>\n",
       "    </tr>\n",
       "  </thead>\n",
       "  <tbody>\n",
       "    <tr>\n",
       "      <th>0</th>\n",
       "      <td>1627422744</td>\n",
       "      <td>Не указано</td>\n",
       "      <td>Куратор</td>\n",
       "      <td>Нет</td>\n",
       "      <td>NaN</td>\n",
       "      <td>NaN</td>\n",
       "      <td>NaN</td>\n",
       "      <td>NaN</td>\n",
       "      <td>NaN</td>\n",
       "      <td>NaN</td>\n",
       "      <td>NaN</td>\n",
       "      <td>NaN</td>\n",
       "      <td>NaN</td>\n",
       "      <td>NaN</td>\n",
       "    </tr>\n",
       "    <tr>\n",
       "      <th>1</th>\n",
       "      <td>1660996475</td>\n",
       "      <td>Музей “A”</td>\n",
       "      <td>Заместитель начальника</td>\n",
       "      <td>Да</td>\n",
       "      <td>6 – 9</td>\n",
       "      <td>Необходимость вносить повторяющуюся информацию...</td>\n",
       "      <td>Отсутствие базы шаблонов и долгий поиск нужной...</td>\n",
       "      <td>Ошибки на этапе согласования и внесение правок...</td>\n",
       "      <td>NaN</td>\n",
       "      <td>Рутинная работа занимает много времени и не по...</td>\n",
       "      <td>Появляется чувство усталости и истощения при з...</td>\n",
       "      <td>Проблем не возникает</td>\n",
       "      <td>Другое</td>\n",
       "      <td>NaN</td>\n",
       "    </tr>\n",
       "    <tr>\n",
       "      <th>2</th>\n",
       "      <td>1664038256</td>\n",
       "      <td>Музей “B”</td>\n",
       "      <td>Методист</td>\n",
       "      <td>Да</td>\n",
       "      <td>1 – 2</td>\n",
       "      <td>Необходимость вносить повторяющуюся информацию...</td>\n",
       "      <td>Отсутствие базы шаблонов и долгий поиск нужной...</td>\n",
       "      <td>NaN</td>\n",
       "      <td>Долгий процесс согласования документов</td>\n",
       "      <td>NaN</td>\n",
       "      <td>NaN</td>\n",
       "      <td>NaN</td>\n",
       "      <td>Другое</td>\n",
       "      <td>Разная информация от разных отделов. В некотор...</td>\n",
       "    </tr>\n",
       "  </tbody>\n",
       "</table>\n",
       "</div>"
      ],
      "text/plain": [
       "           ID       Музей          Ваша должность  \\\n",
       "0  1627422744  Не указано                 Куратор   \n",
       "1  1660996475   Музей “A”  Заместитель начальника   \n",
       "2  1664038256   Музей “B”                Методист   \n",
       "\n",
       "  Работаете ли Вы с составлением документов?  \\\n",
       "0                                        Нет   \n",
       "1                                         Да   \n",
       "2                                         Да   \n",
       "\n",
       "  Сколько документов Вы составляете за неделю?  \\\n",
       "0                                          NaN   \n",
       "1                                        6 – 9   \n",
       "2                                        1 – 2   \n",
       "\n",
       "  С какими проблемами Вы сталкиваетесь при составлении документов / Необходимость вносить повторяющуюся информацию в разные документы  \\\n",
       "0                                                NaN                                                                                    \n",
       "1  Необходимость вносить повторяющуюся информацию...                                                                                    \n",
       "2  Необходимость вносить повторяющуюся информацию...                                                                                    \n",
       "\n",
       "  С какими проблемами Вы сталкиваетесь при составлении документов / Отсутствие базы шаблонов и долгий поиск нужной формы документа  \\\n",
       "0                                                NaN                                                                                 \n",
       "1  Отсутствие базы шаблонов и долгий поиск нужной...                                                                                 \n",
       "2  Отсутствие базы шаблонов и долгий поиск нужной...                                                                                 \n",
       "\n",
       "  С какими проблемами Вы сталкиваетесь при составлении документов / Ошибки на этапе согласования и внесение правок задерживают процесс подготовки выставки / мероприятия  \\\n",
       "0                                                NaN                                                                                                                       \n",
       "1  Ошибки на этапе согласования и внесение правок...                                                                                                                       \n",
       "2                                                NaN                                                                                                                       \n",
       "\n",
       "  С какими проблемами Вы сталкиваетесь при составлении документов / Долгий процесс согласования документов  \\\n",
       "0                                                NaN                                                         \n",
       "1                                                NaN                                                         \n",
       "2             Долгий процесс согласования документов                                                         \n",
       "\n",
       "  С какими проблемами Вы сталкиваетесь при составлении документов / Рутинная работа занимает много времени и не позволяет заниматься основной деятельностью  \\\n",
       "0                                                NaN                                                                                                          \n",
       "1  Рутинная работа занимает много времени и не по...                                                                                                          \n",
       "2                                                NaN                                                                                                          \n",
       "\n",
       "  С какими проблемами Вы сталкиваетесь при составлении документов / Появляется чувство усталости и истощения при заполнении типовых документов  \\\n",
       "0                                                NaN                                                                                             \n",
       "1  Появляется чувство усталости и истощения при з...                                                                                             \n",
       "2                                                NaN                                                                                             \n",
       "\n",
       "  С какими проблемами Вы сталкиваетесь при составлении документов / Проблем не возникает  \\\n",
       "0                                                NaN                                       \n",
       "1                               Проблем не возникает                                       \n",
       "2                                                NaN                                       \n",
       "\n",
       "  С какими проблемами Вы сталкиваетесь при составлении документов / Другое  \\\n",
       "0                                                NaN                         \n",
       "1                                             Другое                         \n",
       "2                                             Другое                         \n",
       "\n",
       "                             Укажите другие проблемы  \n",
       "0                                                NaN  \n",
       "1                                                NaN  \n",
       "2  Разная информация от разных отделов. В некотор...  "
      ]
     },
     "execution_count": 27,
     "metadata": {},
     "output_type": "execute_result"
    }
   ],
   "source": [
    "df.head(3)"
   ]
  },
  {
   "cell_type": "markdown",
   "id": "4ac877cc-c95d-402e-9ad3-71d16911b444",
   "metadata": {},
   "source": [
    " "
   ]
  },
  {
   "cell_type": "markdown",
   "id": "d976f7bd-48a5-459f-a70e-029d6128317d",
   "metadata": {
    "tags": []
   },
   "source": [
    "### Анализ"
   ]
  },
  {
   "cell_type": "markdown",
   "id": "85d1a3b3-0197-4cad-ae8e-1263ae21dc10",
   "metadata": {
    "tags": []
   },
   "source": [
    "#### 1. Сколько музеев прошло опрос"
   ]
  },
  {
   "cell_type": "markdown",
   "id": "08066f80-3a93-4ebf-9dbb-d867eb88707c",
   "metadata": {
    "tags": []
   },
   "source": [
    "Посмотрим, сколько музеев прошло опрос. \\\n",
    "Для этого возьмем столбец 'Музей', очистим его от дубликатов, пропусков и значения \"Не указано\"."
   ]
  },
  {
   "cell_type": "code",
   "execution_count": 83,
   "id": "bdbf8e92-7124-4a25-aeac-daf1e0b43b79",
   "metadata": {
    "tags": []
   },
   "outputs": [
    {
     "data": {
      "text/plain": [
       "1     Музей “A”\n",
       "2     Музей “B”\n",
       "3     Музей “C”\n",
       "4     Музей “D”\n",
       "5     Музей “E”\n",
       "6     Музей “F”\n",
       "8     Музей “G”\n",
       "10    Музей “H”\n",
       "11    Музей “I”\n",
       "12    Музей “J”\n",
       "13    Музей “K”\n",
       "15    Музей “L”\n",
       "16    Музей “M”\n",
       "18    Музей “N”\n",
       "19    Музей “O”\n",
       "21    Музей “P”\n",
       "22    Музей “Q”\n",
       "26    Музей “R”\n",
       "30    Музей “S”\n",
       "31    Музей “T”\n",
       "34    Музей “U”\n",
       "Name: Музей, dtype: object"
      ]
     },
     "execution_count": 83,
     "metadata": {},
     "output_type": "execute_result"
    }
   ],
   "source": [
    "unique_museums_df = df['Музей']\n",
    "unique_museums_df = unique_museums_df.drop_duplicates()\n",
    "unique_museums_df = unique_museums_df.dropna()\n",
    "unique_museums_df = unique_museums_df.drop(df[df['Музей'] == 'Не указано'].index)\n",
    "unique_museums_df"
   ]
  },
  {
   "cell_type": "code",
   "execution_count": 84,
   "id": "f4a7c1f9-880f-402b-b791-59f9fbe5e8ea",
   "metadata": {
    "tags": []
   },
   "outputs": [
    {
     "name": "stdout",
     "output_type": "stream",
     "text": [
      "Музеев прошло опрос: 21\n"
     ]
    }
   ],
   "source": [
    "unique_museums_count = unique_museums_df.nunique()\n",
    "print(f'Музеев прошло опрос: {unique_museums_count}')"
   ]
  },
  {
   "cell_type": "markdown",
   "id": "b624617e-512d-4c35-ae92-c7e0b29dfe3a",
   "metadata": {
    "tags": []
   },
   "source": [
    "**Ответ: 21 музей прошел опрос.**"
   ]
  },
  {
   "cell_type": "markdown",
   "id": "d2b726ec-d46a-469f-81fb-5358d33bb3d3",
   "metadata": {},
   "source": [
    " "
   ]
  },
  {
   "cell_type": "markdown",
   "id": "8a6731e2-56d8-4bfd-9b21-a9acba81a518",
   "metadata": {
    "jp-MarkdownHeadingCollapsed": true,
    "tags": []
   },
   "source": [
    "#### 2. Какие музеи опрос не прошли"
   ]
  },
  {
   "cell_type": "markdown",
   "id": "833171a8-cdd7-442f-b7f8-2c16d4457120",
   "metadata": {
    "tags": []
   },
   "source": [
    "Теперь будет полезно узнать, какие музеи опрос не прошли. \\\n",
    "Эти данные можно будет учесть, например, в рейтинге вовлеченности."
   ]
  },
  {
   "cell_type": "markdown",
   "id": "ce250d13-4072-4daf-a7b5-dd07e7c4723a",
   "metadata": {},
   "source": [
    "Добавляем справочник с музеями, входящими в объединение."
   ]
  },
  {
   "cell_type": "code",
   "execution_count": 38,
   "id": "f22664b9-346d-4d3d-a88c-1a9c3ad6eb7e",
   "metadata": {
    "tags": []
   },
   "outputs": [],
   "source": [
    "museums_list_df = pd.read_csv('Музеи.csv', sep=';', encoding='utf-8')"
   ]
  },
  {
   "cell_type": "markdown",
   "id": "c9e64a13-8990-426f-82ef-190ce51dec83",
   "metadata": {},
   "source": [
    "\\\n",
    "Объединяем две таблицы по правому соединению и оставляем строки, которых нет в левой таблице."
   ]
  },
  {
   "cell_type": "code",
   "execution_count": 39,
   "id": "98a78649-d08a-4d5c-87c8-d9e3d45837b9",
   "metadata": {
    "tags": []
   },
   "outputs": [
    {
     "data": {
      "text/plain": [
       "21    Музей “W”\n",
       "22    Музей “Y”\n",
       "Name: Музей, dtype: object"
      ]
     },
     "execution_count": 39,
     "metadata": {},
     "output_type": "execute_result"
    }
   ],
   "source": [
    "merged_museums_df = pd.merge(unique_museums_df, museums_list_df, on='Музей', how='right', indicator=True)\n",
    "result_mm_df = merged_museums_df[merged_museums_df['_merge'] == 'right_only']\n",
    "result_mm_df['Музей']"
   ]
  },
  {
   "cell_type": "markdown",
   "id": "42c1cbdf-d209-4c4d-9677-3ac92b81801c",
   "metadata": {},
   "source": [
    "**Ответ: опрос не прошли Музей \"W\" и Музей \"Y\".**"
   ]
  },
  {
   "cell_type": "markdown",
   "id": "e443d341-0cfd-477e-abcf-12724dcc7d0f",
   "metadata": {},
   "source": [
    " "
   ]
  },
  {
   "cell_type": "markdown",
   "id": "5a49885f-681f-4672-8ef1-360903260a18",
   "metadata": {
    "tags": []
   },
   "source": [
    "#### 3. Какие сотрудники заполнили анкету"
   ]
  },
  {
   "cell_type": "markdown",
   "id": "96ba7b36-bb8e-49fb-97a4-cc3f9d21c592",
   "metadata": {},
   "source": [
    "Посмотрим, заполнение анкеты по должностям"
   ]
  },
  {
   "cell_type": "code",
   "execution_count": 110,
   "id": "4f051438-f055-4bfc-9889-8b4ead1729d2",
   "metadata": {
    "tags": []
   },
   "outputs": [
    {
     "data": {
      "text/html": [
       "<div>\n",
       "<style scoped>\n",
       "    .dataframe tbody tr th:only-of-type {\n",
       "        vertical-align: middle;\n",
       "    }\n",
       "\n",
       "    .dataframe tbody tr th {\n",
       "        vertical-align: top;\n",
       "    }\n",
       "\n",
       "    .dataframe thead th {\n",
       "        text-align: right;\n",
       "    }\n",
       "</style>\n",
       "<table border=\"1\" class=\"dataframe\">\n",
       "  <thead>\n",
       "    <tr style=\"text-align: right;\">\n",
       "      <th></th>\n",
       "      <th>ID</th>\n",
       "    </tr>\n",
       "    <tr>\n",
       "      <th>Ваша должность</th>\n",
       "      <th></th>\n",
       "    </tr>\n",
       "  </thead>\n",
       "  <tbody>\n",
       "    <tr>\n",
       "      <th>Администратор</th>\n",
       "      <td>11</td>\n",
       "    </tr>\n",
       "    <tr>\n",
       "      <th>Методист</th>\n",
       "      <td>11</td>\n",
       "    </tr>\n",
       "    <tr>\n",
       "      <th>Начальник музея</th>\n",
       "      <td>9</td>\n",
       "    </tr>\n",
       "    <tr>\n",
       "      <th>Заместитель начальника</th>\n",
       "      <td>3</td>\n",
       "    </tr>\n",
       "    <tr>\n",
       "      <th>Куратор</th>\n",
       "      <td>1</td>\n",
       "    </tr>\n",
       "  </tbody>\n",
       "</table>\n",
       "</div>"
      ],
      "text/plain": [
       "                        ID\n",
       "Ваша должность            \n",
       "Администратор           11\n",
       "Методист                11\n",
       "Начальник музея          9\n",
       "Заместитель начальника   3\n",
       "Куратор                  1"
      ]
     },
     "execution_count": 110,
     "metadata": {},
     "output_type": "execute_result"
    }
   ],
   "source": [
    "position_pivot_df = df[['Ваша должность', 'ID']].groupby('Ваша должность').count().sort_values(by='ID', ascending=False)\n",
    "position_pivot_df"
   ]
  },
  {
   "cell_type": "markdown",
   "id": "bd8e24ae-0681-4387-beca-66dc4300319e",
   "metadata": {
    "tags": []
   },
   "source": [
    "\\\n",
    "Выведем резульат в барчарте"
   ]
  },
  {
   "cell_type": "code",
   "execution_count": 115,
   "id": "404dd5ab-18d9-47e0-a3f8-43f86026e0fe",
   "metadata": {
    "tags": []
   },
   "outputs": [
    {
     "data": {
      "image/png": "[encoded data removed]",
      "text/plain": [
       "<Figure size 800x550 with 1 Axes>"
      ]
     },
     "metadata": {},
     "output_type": "display_data"
    }
   ],
   "source": [
    "figsize = (8, 5.5)\n",
    "fig, ax = plt.subplots(figsize=figsize)\n",
    "\n",
    "plt.bar(position_pivot_df.index, position_pivot_df['ID'], label='Респонденты',  width=0.6)\n",
    "\n",
    "plt.setp(ax.get_xticklabels(), rotation=45, ha=\"right\", rotation_mode=\"anchor\")\n",
    "plt.yticks(np.arange(0, 13, 1))\n",
    "\n",
    "plt.xlabel('Должность')\n",
    "\n",
    "for i, (position, id_value) in enumerate(zip(position_pivot_df.index, position_pivot_df['ID'])):\n",
    "    plt.annotate(str(id_value), (position, id_value), xytext=(0,12), textcoords='offset points', ha='center', va='top') #Добавялем подписи данных\n",
    "\n",
    "plt.title('Респонденты по должностям')\n",
    "plt.legend()\n",
    "plt.show()"
   ]
  },
  {
   "cell_type": "markdown",
   "id": "d690e969-4dcb-4016-ab59-8cb79d32ad6e",
   "metadata": {
    "tags": []
   },
   "source": [
    "\\\n",
    "Посмотрим респондентов по музеям"
   ]
  },
  {
   "cell_type": "code",
   "execution_count": 116,
   "id": "b5622720-1830-4d09-bc76-6f3f6d5e817c",
   "metadata": {
    "tags": []
   },
   "outputs": [
    {
     "data": {
      "text/html": [
       "<div>\n",
       "<style scoped>\n",
       "    .dataframe tbody tr th:only-of-type {\n",
       "        vertical-align: middle;\n",
       "    }\n",
       "\n",
       "    .dataframe tbody tr th {\n",
       "        vertical-align: top;\n",
       "    }\n",
       "\n",
       "    .dataframe thead th {\n",
       "        text-align: right;\n",
       "    }\n",
       "</style>\n",
       "<table border=\"1\" class=\"dataframe\">\n",
       "  <thead>\n",
       "    <tr style=\"text-align: right;\">\n",
       "      <th>Ваша должность</th>\n",
       "      <th>Итого</th>\n",
       "    </tr>\n",
       "    <tr>\n",
       "      <th>Музей</th>\n",
       "      <th></th>\n",
       "    </tr>\n",
       "  </thead>\n",
       "  <tbody>\n",
       "    <tr>\n",
       "      <th>Не указано</th>\n",
       "      <td>1</td>\n",
       "    </tr>\n",
       "    <tr>\n",
       "      <th>Музей “U”</th>\n",
       "      <td>1</td>\n",
       "    </tr>\n",
       "    <tr>\n",
       "      <th>Музей “T”</th>\n",
       "      <td>1</td>\n",
       "    </tr>\n",
       "    <tr>\n",
       "      <th>Музей “S”</th>\n",
       "      <td>1</td>\n",
       "    </tr>\n",
       "    <tr>\n",
       "      <th>Музей “R”</th>\n",
       "      <td>1</td>\n",
       "    </tr>\n",
       "    <tr>\n",
       "      <th>Музей “N”</th>\n",
       "      <td>1</td>\n",
       "    </tr>\n",
       "    <tr>\n",
       "      <th>Музей “L”</th>\n",
       "      <td>1</td>\n",
       "    </tr>\n",
       "    <tr>\n",
       "      <th>Музей “J”</th>\n",
       "      <td>1</td>\n",
       "    </tr>\n",
       "    <tr>\n",
       "      <th>Музей “H”</th>\n",
       "      <td>1</td>\n",
       "    </tr>\n",
       "    <tr>\n",
       "      <th>Музей “G”</th>\n",
       "      <td>1</td>\n",
       "    </tr>\n",
       "    <tr>\n",
       "      <th>Музей “F”</th>\n",
       "      <td>1</td>\n",
       "    </tr>\n",
       "    <tr>\n",
       "      <th>Музей “E”</th>\n",
       "      <td>1</td>\n",
       "    </tr>\n",
       "    <tr>\n",
       "      <th>Музей “D”</th>\n",
       "      <td>1</td>\n",
       "    </tr>\n",
       "    <tr>\n",
       "      <th>Музей “A”</th>\n",
       "      <td>1</td>\n",
       "    </tr>\n",
       "    <tr>\n",
       "      <th>Музей “Q”</th>\n",
       "      <td>2</td>\n",
       "    </tr>\n",
       "    <tr>\n",
       "      <th>Музей “O”</th>\n",
       "      <td>2</td>\n",
       "    </tr>\n",
       "    <tr>\n",
       "      <th>Музей “K”</th>\n",
       "      <td>2</td>\n",
       "    </tr>\n",
       "    <tr>\n",
       "      <th>Музей “I”</th>\n",
       "      <td>2</td>\n",
       "    </tr>\n",
       "    <tr>\n",
       "      <th>Музей “P”</th>\n",
       "      <td>3</td>\n",
       "    </tr>\n",
       "    <tr>\n",
       "      <th>Музей “M”</th>\n",
       "      <td>3</td>\n",
       "    </tr>\n",
       "    <tr>\n",
       "      <th>Музей “B”</th>\n",
       "      <td>3</td>\n",
       "    </tr>\n",
       "    <tr>\n",
       "      <th>Музей “C”</th>\n",
       "      <td>4</td>\n",
       "    </tr>\n",
       "  </tbody>\n",
       "</table>\n",
       "</div>"
      ],
      "text/plain": [
       "Ваша должность  Итого\n",
       "Музей                \n",
       "Не указано          1\n",
       "Музей “U”           1\n",
       "Музей “T”           1\n",
       "Музей “S”           1\n",
       "Музей “R”           1\n",
       "Музей “N”           1\n",
       "Музей “L”           1\n",
       "Музей “J”           1\n",
       "Музей “H”           1\n",
       "Музей “G”           1\n",
       "Музей “F”           1\n",
       "Музей “E”           1\n",
       "Музей “D”           1\n",
       "Музей “A”           1\n",
       "Музей “Q”           2\n",
       "Музей “O”           2\n",
       "Музей “K”           2\n",
       "Музей “I”           2\n",
       "Музей “P”           3\n",
       "Музей “M”           3\n",
       "Музей “B”           3\n",
       "Музей “C”           4"
      ]
     },
     "execution_count": 116,
     "metadata": {},
     "output_type": "execute_result"
    }
   ],
   "source": [
    "pivot = df.pivot_table(index='Музей', columns='Ваша должность', values='ID', aggfunc='count', margins=True, margins_name='Итого')\n",
    "pivot = pivot.sort_values(['Итого', 'Музей'], ascending=[True, False]) #Как опустить строку с итогами вниз?\n",
    "pivot = pivot.reindex(columns=['Итого'])\n",
    "pivot = pivot.drop(pivot.index[22])\n",
    "pivot"
   ]
  },
  {
   "cell_type": "markdown",
   "id": "8a2b6d06-976e-48e6-93da-4e70339b4892",
   "metadata": {
    "tags": []
   },
   "source": [
    "\\\n",
    "Построим линейчатую диаграмму"
   ]
  },
  {
   "cell_type": "code",
   "execution_count": 104,
   "id": "c8347303-0cc0-4d35-9e16-f81d623d476b",
   "metadata": {
    "tags": []
   },
   "outputs": [
    {
     "data": {
      "text/plain": [
       "Text(0.5, 1.0, 'Респонденты по музеям')"
      ]
     },
     "execution_count": 104,
     "metadata": {},
     "output_type": "execute_result"
    },
    {
     "data": {
      "image/png": "[encoded data removed]",
      "text/plain": [
       "<Figure size 500x700 with 1 Axes>"
      ]
     },
     "metadata": {},
     "output_type": "display_data"
    }
   ],
   "source": [
    "figsize = (5,7)\n",
    "fig, ax = plt.subplots(figsize=figsize)\n",
    "\n",
    "plt.barh(pivot.index, pivot['Итого'])\n",
    "plt.xticks(np.arange(0, 6, 1))\n",
    "\n",
    "for i, v in enumerate(pivot['Итого']):\n",
    "    ax.text(v + 0.2, i, str(v), ha='center', va='center')\n",
    "\n",
    "plt.title('Респонденты по музеям')"
   ]
  },
  {
   "cell_type": "markdown",
   "id": "c65d322d-4b92-4740-ba70-0ba2132b7c42",
   "metadata": {
    "tags": []
   },
   "source": [
    "\\\n",
    "Посмотрим на количество респондентов по музеям и должностям"
   ]
  },
  {
   "cell_type": "code",
   "execution_count": 119,
   "id": "2227a019-62f6-425f-82d3-af4c8af04a45",
   "metadata": {
    "tags": []
   },
   "outputs": [
    {
     "data": {
      "text/html": [
       "<div>\n",
       "<style scoped>\n",
       "    .dataframe tbody tr th:only-of-type {\n",
       "        vertical-align: middle;\n",
       "    }\n",
       "\n",
       "    .dataframe tbody tr th {\n",
       "        vertical-align: top;\n",
       "    }\n",
       "\n",
       "    .dataframe thead th {\n",
       "        text-align: right;\n",
       "    }\n",
       "</style>\n",
       "<table border=\"1\" class=\"dataframe\">\n",
       "  <thead>\n",
       "    <tr style=\"text-align: right;\">\n",
       "      <th>Ваша должность</th>\n",
       "      <th>Администратор</th>\n",
       "      <th>Методист</th>\n",
       "      <th>Начальник музея</th>\n",
       "      <th>Заместитель начальника</th>\n",
       "      <th>Куратор</th>\n",
       "    </tr>\n",
       "    <tr>\n",
       "      <th>Музей</th>\n",
       "      <th></th>\n",
       "      <th></th>\n",
       "      <th></th>\n",
       "      <th></th>\n",
       "      <th></th>\n",
       "    </tr>\n",
       "  </thead>\n",
       "  <tbody>\n",
       "    <tr>\n",
       "      <th>Музей “C”</th>\n",
       "      <td>3.0</td>\n",
       "      <td>NaN</td>\n",
       "      <td>1.0</td>\n",
       "      <td>NaN</td>\n",
       "      <td>NaN</td>\n",
       "    </tr>\n",
       "    <tr>\n",
       "      <th>Музей “B”</th>\n",
       "      <td>1.0</td>\n",
       "      <td>1.0</td>\n",
       "      <td>1.0</td>\n",
       "      <td>NaN</td>\n",
       "      <td>NaN</td>\n",
       "    </tr>\n",
       "    <tr>\n",
       "      <th>Музей “M”</th>\n",
       "      <td>2.0</td>\n",
       "      <td>NaN</td>\n",
       "      <td>1.0</td>\n",
       "      <td>NaN</td>\n",
       "      <td>NaN</td>\n",
       "    </tr>\n",
       "    <tr>\n",
       "      <th>Музей “P”</th>\n",
       "      <td>1.0</td>\n",
       "      <td>1.0</td>\n",
       "      <td>NaN</td>\n",
       "      <td>1.0</td>\n",
       "      <td>NaN</td>\n",
       "    </tr>\n",
       "    <tr>\n",
       "      <th>Музей “I”</th>\n",
       "      <td>NaN</td>\n",
       "      <td>2.0</td>\n",
       "      <td>NaN</td>\n",
       "      <td>NaN</td>\n",
       "      <td>NaN</td>\n",
       "    </tr>\n",
       "    <tr>\n",
       "      <th>Музей “K”</th>\n",
       "      <td>NaN</td>\n",
       "      <td>1.0</td>\n",
       "      <td>1.0</td>\n",
       "      <td>NaN</td>\n",
       "      <td>NaN</td>\n",
       "    </tr>\n",
       "    <tr>\n",
       "      <th>Музей “O”</th>\n",
       "      <td>NaN</td>\n",
       "      <td>1.0</td>\n",
       "      <td>1.0</td>\n",
       "      <td>NaN</td>\n",
       "      <td>NaN</td>\n",
       "    </tr>\n",
       "    <tr>\n",
       "      <th>Музей “Q”</th>\n",
       "      <td>1.0</td>\n",
       "      <td>1.0</td>\n",
       "      <td>NaN</td>\n",
       "      <td>NaN</td>\n",
       "      <td>NaN</td>\n",
       "    </tr>\n",
       "    <tr>\n",
       "      <th>Музей “A”</th>\n",
       "      <td>NaN</td>\n",
       "      <td>NaN</td>\n",
       "      <td>NaN</td>\n",
       "      <td>1.0</td>\n",
       "      <td>NaN</td>\n",
       "    </tr>\n",
       "    <tr>\n",
       "      <th>Музей “D”</th>\n",
       "      <td>NaN</td>\n",
       "      <td>NaN</td>\n",
       "      <td>NaN</td>\n",
       "      <td>1.0</td>\n",
       "      <td>NaN</td>\n",
       "    </tr>\n",
       "    <tr>\n",
       "      <th>Музей “E”</th>\n",
       "      <td>1.0</td>\n",
       "      <td>NaN</td>\n",
       "      <td>NaN</td>\n",
       "      <td>NaN</td>\n",
       "      <td>NaN</td>\n",
       "    </tr>\n",
       "    <tr>\n",
       "      <th>Музей “F”</th>\n",
       "      <td>NaN</td>\n",
       "      <td>NaN</td>\n",
       "      <td>1.0</td>\n",
       "      <td>NaN</td>\n",
       "      <td>NaN</td>\n",
       "    </tr>\n",
       "    <tr>\n",
       "      <th>Музей “G”</th>\n",
       "      <td>NaN</td>\n",
       "      <td>NaN</td>\n",
       "      <td>1.0</td>\n",
       "      <td>NaN</td>\n",
       "      <td>NaN</td>\n",
       "    </tr>\n",
       "    <tr>\n",
       "      <th>Музей “H”</th>\n",
       "      <td>NaN</td>\n",
       "      <td>NaN</td>\n",
       "      <td>1.0</td>\n",
       "      <td>NaN</td>\n",
       "      <td>NaN</td>\n",
       "    </tr>\n",
       "    <tr>\n",
       "      <th>Музей “J”</th>\n",
       "      <td>NaN</td>\n",
       "      <td>1.0</td>\n",
       "      <td>NaN</td>\n",
       "      <td>NaN</td>\n",
       "      <td>NaN</td>\n",
       "    </tr>\n",
       "    <tr>\n",
       "      <th>Музей “L”</th>\n",
       "      <td>1.0</td>\n",
       "      <td>NaN</td>\n",
       "      <td>NaN</td>\n",
       "      <td>NaN</td>\n",
       "      <td>NaN</td>\n",
       "    </tr>\n",
       "    <tr>\n",
       "      <th>Музей “N”</th>\n",
       "      <td>1.0</td>\n",
       "      <td>NaN</td>\n",
       "      <td>NaN</td>\n",
       "      <td>NaN</td>\n",
       "      <td>NaN</td>\n",
       "    </tr>\n",
       "    <tr>\n",
       "      <th>Музей “R”</th>\n",
       "      <td>NaN</td>\n",
       "      <td>1.0</td>\n",
       "      <td>NaN</td>\n",
       "      <td>NaN</td>\n",
       "      <td>NaN</td>\n",
       "    </tr>\n",
       "    <tr>\n",
       "      <th>Музей “S”</th>\n",
       "      <td>NaN</td>\n",
       "      <td>1.0</td>\n",
       "      <td>NaN</td>\n",
       "      <td>NaN</td>\n",
       "      <td>NaN</td>\n",
       "    </tr>\n",
       "    <tr>\n",
       "      <th>Музей “T”</th>\n",
       "      <td>NaN</td>\n",
       "      <td>1.0</td>\n",
       "      <td>NaN</td>\n",
       "      <td>NaN</td>\n",
       "      <td>NaN</td>\n",
       "    </tr>\n",
       "    <tr>\n",
       "      <th>Музей “U”</th>\n",
       "      <td>NaN</td>\n",
       "      <td>NaN</td>\n",
       "      <td>1.0</td>\n",
       "      <td>NaN</td>\n",
       "      <td>NaN</td>\n",
       "    </tr>\n",
       "    <tr>\n",
       "      <th>Не указано</th>\n",
       "      <td>NaN</td>\n",
       "      <td>NaN</td>\n",
       "      <td>NaN</td>\n",
       "      <td>NaN</td>\n",
       "      <td>1.0</td>\n",
       "    </tr>\n",
       "  </tbody>\n",
       "</table>\n",
       "</div>"
      ],
      "text/plain": [
       "Ваша должность  Администратор  Методист  Начальник музея  \\\n",
       "Музей                                                      \n",
       "Музей “C”                 3.0       NaN              1.0   \n",
       "Музей “B”                 1.0       1.0              1.0   \n",
       "Музей “M”                 2.0       NaN              1.0   \n",
       "Музей “P”                 1.0       1.0              NaN   \n",
       "Музей “I”                 NaN       2.0              NaN   \n",
       "Музей “K”                 NaN       1.0              1.0   \n",
       "Музей “O”                 NaN       1.0              1.0   \n",
       "Музей “Q”                 1.0       1.0              NaN   \n",
       "Музей “A”                 NaN       NaN              NaN   \n",
       "Музей “D”                 NaN       NaN              NaN   \n",
       "Музей “E”                 1.0       NaN              NaN   \n",
       "Музей “F”                 NaN       NaN              1.0   \n",
       "Музей “G”                 NaN       NaN              1.0   \n",
       "Музей “H”                 NaN       NaN              1.0   \n",
       "Музей “J”                 NaN       1.0              NaN   \n",
       "Музей “L”                 1.0       NaN              NaN   \n",
       "Музей “N”                 1.0       NaN              NaN   \n",
       "Музей “R”                 NaN       1.0              NaN   \n",
       "Музей “S”                 NaN       1.0              NaN   \n",
       "Музей “T”                 NaN       1.0              NaN   \n",
       "Музей “U”                 NaN       NaN              1.0   \n",
       "Не указано                NaN       NaN              NaN   \n",
       "\n",
       "Ваша должность  Заместитель начальника  Куратор  \n",
       "Музей                                            \n",
       "Музей “C”                          NaN      NaN  \n",
       "Музей “B”                          NaN      NaN  \n",
       "Музей “M”                          NaN      NaN  \n",
       "Музей “P”                          1.0      NaN  \n",
       "Музей “I”                          NaN      NaN  \n",
       "Музей “K”                          NaN      NaN  \n",
       "Музей “O”                          NaN      NaN  \n",
       "Музей “Q”                          NaN      NaN  \n",
       "Музей “A”                          1.0      NaN  \n",
       "Музей “D”                          1.0      NaN  \n",
       "Музей “E”                          NaN      NaN  \n",
       "Музей “F”                          NaN      NaN  \n",
       "Музей “G”                          NaN      NaN  \n",
       "Музей “H”                          NaN      NaN  \n",
       "Музей “J”                          NaN      NaN  \n",
       "Музей “L”                          NaN      NaN  \n",
       "Музей “N”                          NaN      NaN  \n",
       "Музей “R”                          NaN      NaN  \n",
       "Музей “S”                          NaN      NaN  \n",
       "Музей “T”                          NaN      NaN  \n",
       "Музей “U”                          NaN      NaN  \n",
       "Не указано                         NaN      1.0  "
      ]
     },
     "execution_count": 119,
     "metadata": {},
     "output_type": "execute_result"
    }
   ],
   "source": [
    "pivot_heatmap = df.pivot_table(index='Музей', columns='Ваша должность', values='ID', aggfunc='count',  margins=True, margins_name='Итого')\n",
    "pivot_heatmap = pivot_heatmap.sort_values(['Итого', 'Музей'], ascending=[False, True])\n",
    "pivot_heatmap = pivot_heatmap.reindex(columns=['Администратор', 'Методист', 'Начальник музея', 'Заместитель начальника', 'Куратор'])\n",
    "pivot_heatmap = pivot_heatmap.drop(pivot_heatmap.index[0])\n",
    "pivot_heatmap"
   ]
  },
  {
   "cell_type": "code",
   "execution_count": 92,
   "id": "fb7c8f24-a651-4172-ab7d-ecbd86e5b3de",
   "metadata": {
    "tags": []
   },
   "outputs": [
    {
     "data": {
      "image/png": "[encoded data removed]",
      "text/plain": [
       "<Figure size 400x700 with 1 Axes>"
      ]
     },
     "metadata": {},
     "output_type": "display_data"
    }
   ],
   "source": [
    "figsize = (4,7)\n",
    "fig, ax = plt.subplots(figsize=figsize)\n",
    "\n",
    "hmap = sns.heatmap(pivot_heatmap, \n",
    "                   ax=ax, \n",
    "                   linewidth=0.1,\n",
    "                   linecolor='gray',\n",
    "                   annot=True,\n",
    "                   cmap='Blues',\n",
    "                   cbar=False)\n",
    "\n",
    "plt.setp(ax.get_xticklabels(), rotation=45, ha=\"right\", rotation_mode=\"anchor\")\n",
    "\n",
    "plt.ylabel('')\n",
    "plt.xlabel('')\n",
    "\n",
    "plt.title('Респонденты по музеям и должностям')\n",
    "plt.show()"
   ]
  },
  {
   "cell_type": "markdown",
   "id": "4cf51802-ba57-4ac1-9f91-04ba8f490f24",
   "metadata": {},
   "source": [
    " "
   ]
  },
  {
   "cell_type": "markdown",
   "id": "dc21d818-9b2e-4da0-9cd0-86ff65d8c02e",
   "metadata": {
    "tags": []
   },
   "source": [
    "#### 4.1 Проблемы при составлении документов (Варианты)"
   ]
  },
  {
   "cell_type": "markdown",
   "id": "38bbeedc-bee9-4822-b465-71c2b82ef639",
   "metadata": {},
   "source": [
    "Для начала преобразуем горизонтальную таблицу в вертикальную"
   ]
  },
  {
   "cell_type": "code",
   "execution_count": 75,
   "id": "29fb62eb-e867-431a-8376-8fbf877e9484",
   "metadata": {},
   "outputs": [
    {
     "data": {
      "text/html": [
       "<div>\n",
       "<style scoped>\n",
       "    .dataframe tbody tr th:only-of-type {\n",
       "        vertical-align: middle;\n",
       "    }\n",
       "\n",
       "    .dataframe tbody tr th {\n",
       "        vertical-align: top;\n",
       "    }\n",
       "\n",
       "    .dataframe thead th {\n",
       "        text-align: right;\n",
       "    }\n",
       "</style>\n",
       "<table border=\"1\" class=\"dataframe\">\n",
       "  <thead>\n",
       "    <tr style=\"text-align: right;\">\n",
       "      <th></th>\n",
       "      <th>ID</th>\n",
       "      <th>value</th>\n",
       "    </tr>\n",
       "  </thead>\n",
       "  <tbody>\n",
       "    <tr>\n",
       "      <th>0</th>\n",
       "      <td>1627422744</td>\n",
       "      <td>NaN</td>\n",
       "    </tr>\n",
       "    <tr>\n",
       "      <th>1</th>\n",
       "      <td>1660996475</td>\n",
       "      <td>Необходимость вносить повторяющуюся информацию...</td>\n",
       "    </tr>\n",
       "    <tr>\n",
       "      <th>2</th>\n",
       "      <td>1664038256</td>\n",
       "      <td>Необходимость вносить повторяющуюся информацию...</td>\n",
       "    </tr>\n",
       "    <tr>\n",
       "      <th>3</th>\n",
       "      <td>1664039643</td>\n",
       "      <td>NaN</td>\n",
       "    </tr>\n",
       "    <tr>\n",
       "      <th>4</th>\n",
       "      <td>1664044594</td>\n",
       "      <td>Необходимость вносить повторяющуюся информацию...</td>\n",
       "    </tr>\n",
       "    <tr>\n",
       "      <th>...</th>\n",
       "      <td>...</td>\n",
       "      <td>...</td>\n",
       "    </tr>\n",
       "    <tr>\n",
       "      <th>275</th>\n",
       "      <td>1667726198</td>\n",
       "      <td>NaN</td>\n",
       "    </tr>\n",
       "    <tr>\n",
       "      <th>276</th>\n",
       "      <td>1668097053</td>\n",
       "      <td>NaN</td>\n",
       "    </tr>\n",
       "    <tr>\n",
       "      <th>277</th>\n",
       "      <td>1669460393</td>\n",
       "      <td>NaN</td>\n",
       "    </tr>\n",
       "    <tr>\n",
       "      <th>278</th>\n",
       "      <td>1671944504</td>\n",
       "      <td>NaN</td>\n",
       "    </tr>\n",
       "    <tr>\n",
       "      <th>279</th>\n",
       "      <td>1673368629</td>\n",
       "      <td>NaN</td>\n",
       "    </tr>\n",
       "  </tbody>\n",
       "</table>\n",
       "<p>280 rows × 2 columns</p>\n",
       "</div>"
      ],
      "text/plain": [
       "             ID                                              value\n",
       "0    1627422744                                                NaN\n",
       "1    1660996475  Необходимость вносить повторяющуюся информацию...\n",
       "2    1664038256  Необходимость вносить повторяющуюся информацию...\n",
       "3    1664039643                                                NaN\n",
       "4    1664044594  Необходимость вносить повторяющуюся информацию...\n",
       "..          ...                                                ...\n",
       "275  1667726198                                                NaN\n",
       "276  1668097053                                                NaN\n",
       "277  1669460393                                                NaN\n",
       "278  1671944504                                                NaN\n",
       "279  1673368629                                                NaN\n",
       "\n",
       "[280 rows x 2 columns]"
      ]
     },
     "execution_count": 75,
     "metadata": {},
     "output_type": "execute_result"
    }
   ],
   "source": [
    "melted_df = pd.melt(df, id_vars=['ID'], value_vars=['С какими проблемами Вы сталкиваетесь при составлении документов / Необходимость вносить повторяющуюся информацию в разные документы',\n",
    "                                                    'С какими проблемами Вы сталкиваетесь при составлении документов / Отсутствие базы шаблонов и долгий поиск нужной формы документа',\n",
    "                                                    'С какими проблемами Вы сталкиваетесь при составлении документов / Ошибки на этапе согласования и внесение правок задерживают процесс подготовки выставки / мероприятия',\n",
    "                                                    'С какими проблемами Вы сталкиваетесь при составлении документов / Долгий процесс согласования документов',\n",
    "                                                    'С какими проблемами Вы сталкиваетесь при составлении документов / Рутинная работа занимает много времени и не позволяет заниматься основной деятельностью',\n",
    "                                                    'С какими проблемами Вы сталкиваетесь при составлении документов / Появляется чувство усталости и истощения при заполнении типовых документов',\n",
    "                                                    'С какими проблемами Вы сталкиваетесь при составлении документов / Проблем не возникает',\n",
    "                                                    'С какими проблемами Вы сталкиваетесь при составлении документов / Другое'\n",
    "                                                   ])\n",
    "melted_df = melted_df.drop(columns='variable')\n",
    "melted_df"
   ]
  },
  {
   "cell_type": "markdown",
   "id": "54211f2f-db08-4842-b1c0-d8312f7ab399",
   "metadata": {
    "tags": []
   },
   "source": [
    "\\\n",
    "Теперь мы можем построить сводную таблицу с показателями ответов и понять, с какими проблемами сталкиваются сотрудники"
   ]
  },
  {
   "cell_type": "code",
   "execution_count": 49,
   "id": "3e543a15-6730-4e9b-a4af-db704a3d207f",
   "metadata": {
    "tags": []
   },
   "outputs": [
    {
     "data": {
      "text/html": [
       "<div>\n",
       "<style scoped>\n",
       "    .dataframe tbody tr th:only-of-type {\n",
       "        vertical-align: middle;\n",
       "    }\n",
       "\n",
       "    .dataframe tbody tr th {\n",
       "        vertical-align: top;\n",
       "    }\n",
       "\n",
       "    .dataframe thead th {\n",
       "        text-align: right;\n",
       "    }\n",
       "</style>\n",
       "<table border=\"1\" class=\"dataframe\">\n",
       "  <thead>\n",
       "    <tr style=\"text-align: right;\">\n",
       "      <th></th>\n",
       "      <th>С какими проблемами Вы сталкиваетесь при составлении документов?</th>\n",
       "      <th>Ответы</th>\n",
       "      <th>Доля</th>\n",
       "    </tr>\n",
       "  </thead>\n",
       "  <tbody>\n",
       "    <tr>\n",
       "      <th>0</th>\n",
       "      <td>Необходимость вносить повторяющуюся информацию...</td>\n",
       "      <td>21</td>\n",
       "      <td>0.20</td>\n",
       "    </tr>\n",
       "    <tr>\n",
       "      <th>1</th>\n",
       "      <td>Долгий процесс согласования документов</td>\n",
       "      <td>18</td>\n",
       "      <td>0.17</td>\n",
       "    </tr>\n",
       "    <tr>\n",
       "      <th>2</th>\n",
       "      <td>Отсутствие базы шаблонов и долгий поиск нужной...</td>\n",
       "      <td>16</td>\n",
       "      <td>0.15</td>\n",
       "    </tr>\n",
       "    <tr>\n",
       "      <th>3</th>\n",
       "      <td>Ошибки на этапе согласования и внесение правок...</td>\n",
       "      <td>16</td>\n",
       "      <td>0.15</td>\n",
       "    </tr>\n",
       "    <tr>\n",
       "      <th>4</th>\n",
       "      <td>Рутинная работа занимает много времени и не по...</td>\n",
       "      <td>14</td>\n",
       "      <td>0.13</td>\n",
       "    </tr>\n",
       "    <tr>\n",
       "      <th>5</th>\n",
       "      <td>Появляется чувство усталости и истощения при з...</td>\n",
       "      <td>10</td>\n",
       "      <td>0.09</td>\n",
       "    </tr>\n",
       "    <tr>\n",
       "      <th>6</th>\n",
       "      <td>Другое</td>\n",
       "      <td>6</td>\n",
       "      <td>0.06</td>\n",
       "    </tr>\n",
       "    <tr>\n",
       "      <th>7</th>\n",
       "      <td>Проблем не возникает</td>\n",
       "      <td>5</td>\n",
       "      <td>0.05</td>\n",
       "    </tr>\n",
       "  </tbody>\n",
       "</table>\n",
       "</div>"
      ],
      "text/plain": [
       "  С какими проблемами Вы сталкиваетесь при составлении документов?  Ответы  \\\n",
       "0  Необходимость вносить повторяющуюся информацию...                    21   \n",
       "1             Долгий процесс согласования документов                    18   \n",
       "2  Отсутствие базы шаблонов и долгий поиск нужной...                    16   \n",
       "3  Ошибки на этапе согласования и внесение правок...                    16   \n",
       "4  Рутинная работа занимает много времени и не по...                    14   \n",
       "5  Появляется чувство усталости и истощения при з...                    10   \n",
       "6                                             Другое                     6   \n",
       "7                               Проблем не возникает                     5   \n",
       "\n",
       "   Доля  \n",
       "0  0.20  \n",
       "1  0.17  \n",
       "2  0.15  \n",
       "3  0.15  \n",
       "4  0.13  \n",
       "5  0.09  \n",
       "6  0.06  \n",
       "7  0.05  "
      ]
     },
     "execution_count": 49,
     "metadata": {},
     "output_type": "execute_result"
    }
   ],
   "source": [
    "pivot_melt = melted_df[['value', 'ID']].groupby('value').count().sort_values(by='ID', ascending=False)\n",
    "\n",
    "pivot_melt = pivot_melt.reset_index().rename(columns={'value': 'С какими проблемами Вы сталкиваетесь при составлении документов?', \n",
    "                                                      'ID': 'Ответы'})\n",
    "\n",
    "pivot_melt['Доля'] = round(pivot_melt['Ответы'] / pivot_melt.Ответы.sum(), 2)\n",
    "\n",
    "\n",
    "pivot_melt"
   ]
  },
  {
   "cell_type": "markdown",
   "id": "bc36b242-e2b9-4df6-ad96-d46014f0826a",
   "metadata": {},
   "source": [
    "\\\n",
    "**Выводы:**\n",
    "* У большинства респондентов возникают проблемы при составлении документов (95% против 5%).\n",
    "* В топ 3 верхних позиций вошли 2 проблемы, которые можно решить с помощью шаблонизатора документов (индексы 0 и 2)."
   ]
  },
  {
   "cell_type": "markdown",
   "id": "4d744561-9fa2-4a31-80e3-c0d4aa2c0cb7",
   "metadata": {},
   "source": [
    " "
   ]
  },
  {
   "cell_type": "markdown",
   "id": "d61c1cf4-f09e-4bfb-a075-fb3515f618c6",
   "metadata": {
    "tags": []
   },
   "source": [
    "#### 4.2 Проблемы при составлении документов (Другое)"
   ]
  },
  {
   "cell_type": "markdown",
   "id": "229e1abb-56ad-4cf3-b70d-fc6ea1190c7b",
   "metadata": {
    "tags": []
   },
   "source": [
    "Посмотрим, с какими еще проблемами сталкиваются сотрудники."
   ]
  },
  {
   "cell_type": "code",
   "execution_count": 70,
   "id": "b358fd91-fb71-4a15-a9a7-47e979330b94",
   "metadata": {
    "tags": []
   },
   "outputs": [
    {
     "data": {
      "text/plain": [
       "2     Разная информация от разных отделов. В некотор...\n",
       "15    Если  в формы договоров/контрактов вносятся ка...\n",
       "21    1. Много времени уходит на \"вытягивание\" необх...\n",
       "23    Партнеры не присылают вовремя информацию или н...\n",
       "26    Много времени занимает сбор данных от участник...\n",
       "Name: Укажите другие проблемы, dtype: object"
      ]
     },
     "execution_count": 70,
     "metadata": {},
     "output_type": "execute_result"
    }
   ],
   "source": [
    "trable_doc = df[\"Укажите другие проблемы\"].dropna()\n",
    "trable_doc"
   ]
  },
  {
   "cell_type": "markdown",
   "id": "144a8fbe-1b6a-47a1-a871-fe195302d4f7",
   "metadata": {},
   "source": [
    "\\\n",
    "Сохраним результат в csv и прогоним через GPT для суммаризации."
   ]
  },
  {
   "cell_type": "code",
   "execution_count": 72,
   "id": "2713e353-62f5-4138-975c-1259cb736217",
   "metadata": {
    "tags": []
   },
   "outputs": [],
   "source": [
    "trable_doc.to_csv('trable_doc.csv', sep=',', index=False, encoding='utf-8')"
   ]
  },
  {
   "cell_type": "markdown",
   "id": "1b4a0f42-24e3-4c9b-9d32-6f1cb4bf4fa9",
   "metadata": {
    "tags": []
   },
   "source": [
    "\\\n",
    "**После работы с нейросетью мы можем понять основные проблемы, которыми поделились респонденты:**\n",
    "\n",
    "* Разногласия в шаблонах документов между бэк-офисом и институцией вызывают задержки и путаницу.\n",
    "* Длительное ожидание и неполные данные от партнеров требуют дополнительных усилий и времени.\n",
    "\n",
    "Эти проблемы существенно усложняют и затягивают процесс подготовки документов.\n",
    "\n",
    "Мы снова видим, что разногласия в шаблонах документов решит система автоматизации документооборота."
   ]
  },
  {
   "cell_type": "markdown",
   "id": "da586fcc-bac5-402b-a1d5-b693aef20b76",
   "metadata": {},
   "source": [
    "### Выводы"
   ]
  },
  {
   "cell_type": "markdown",
   "id": "d94e6c94-9b8f-47ce-9798-a6fb785e5b40",
   "metadata": {},
   "source": [
    "Система автоматизации документооборота нужна"
   ]
  }
 ],
 "metadata": {
  "kernelspec": {
   "display_name": "Python 3 (ipykernel)",
   "language": "python",
   "name": "python3"
  },
  "language_info": {
   "codemirror_mode": {
    "name": "ipython",
    "version": 3
   },
   "file_extension": ".py",
   "mimetype": "text/x-python",
   "name": "python",
   "nbconvert_exporter": "python",
   "pygments_lexer": "ipython3",
   "version": "3.11.5"
  }
 },
 "nbformat": 4,
 "nbformat_minor": 5
}
